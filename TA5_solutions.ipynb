{
 "cells": [
  {
   "cell_type": "markdown",
   "metadata": {},
   "source": [
    "# TA5\n",
    "Review of:\n",
    "- os\n",
    "- groupby\n",
    "- plot"
   ]
  },
  {
   "cell_type": "code",
   "execution_count": 1,
   "metadata": {},
   "outputs": [],
   "source": [
    "import os\n",
    "import pandas as pd\n",
    "import matplotlib.pyplot as plt"
   ]
  },
  {
   "cell_type": "code",
   "execution_count": 2,
   "metadata": {},
   "outputs": [
    {
     "data": {
      "text/plain": [
       "'/Users/camiloariasm/Google Drive/Escuela/MSCAPP/Q3/Intro-to-prog/TA_material/TA5'"
      ]
     },
     "execution_count": 2,
     "metadata": {},
     "output_type": "execute_result"
    }
   ],
   "source": [
    "os.getcwd()"
   ]
  },
  {
   "cell_type": "code",
   "execution_count": 3,
   "metadata": {},
   "outputs": [],
   "source": [
    "os.chdir('/Users/camiloariasm/Desktop')"
   ]
  },
  {
   "cell_type": "code",
   "execution_count": 4,
   "metadata": {},
   "outputs": [
    {
     "data": {
      "text/plain": [
       "'/Users/camiloariasm/Desktop'"
      ]
     },
     "execution_count": 4,
     "metadata": {},
     "output_type": "execute_result"
    }
   ],
   "source": [
    "os.getcwd()"
   ]
  },
  {
   "cell_type": "code",
   "execution_count": 6,
   "metadata": {},
   "outputs": [],
   "source": [
    "os.chdir('/Users/camiloariasm/Google Drive/Escuela/MSCAPP/Q3/Intro-to-prog/TA_material/TA5')"
   ]
  },
  {
   "cell_type": "code",
   "execution_count": 7,
   "metadata": {},
   "outputs": [
    {
     "data": {
      "text/plain": [
       "['TA5_solutions.ipynb',\n",
       " 'tracts_il.csv',\n",
       " 'TA5.ipynb',\n",
       " '.ipynb_checkpoints',\n",
       " 'tracts_ny.csv',\n",
       " '.git']"
      ]
     },
     "execution_count": 7,
     "metadata": {},
     "output_type": "execute_result"
    }
   ],
   "source": [
    "os.listdir()"
   ]
  },
  {
   "cell_type": "code",
   "execution_count": 9,
   "metadata": {},
   "outputs": [
    {
     "data": {
      "text/plain": [
       "'csv'"
      ]
     },
     "execution_count": 9,
     "metadata": {},
     "output_type": "execute_result"
    }
   ],
   "source": [
    "os.listdir()[1][-3:]"
   ]
  },
  {
   "cell_type": "code",
   "execution_count": 10,
   "metadata": {},
   "outputs": [],
   "source": [
    "tracts_il = pd.read_csv('tracts_il.csv')"
   ]
  },
  {
   "cell_type": "code",
   "execution_count": 11,
   "metadata": {},
   "outputs": [
    {
     "data": {
      "text/plain": [
       "Index(['GEOID', 'year', 'name', 'parent-location', 'population',\n",
       "       'poverty-rate', 'renter-occupied-households', 'pct-renter-occupied',\n",
       "       'median-gross-rent', 'median-household-income', 'median-property-value',\n",
       "       'rent-burden', 'pct-white', 'pct-af-am', 'pct-hispanic', 'pct-am-ind',\n",
       "       'pct-asian', 'pct-nh-pi', 'pct-multiple', 'pct-other',\n",
       "       'eviction-filings', 'evictions', 'eviction-rate',\n",
       "       'eviction-filing-rate', 'low-flag', 'imputed', 'subbed'],\n",
       "      dtype='object')"
      ]
     },
     "execution_count": 11,
     "metadata": {},
     "output_type": "execute_result"
    }
   ],
   "source": [
    "tracts_il.columns"
   ]
  },
  {
   "cell_type": "code",
   "execution_count": 12,
   "metadata": {},
   "outputs": [
    {
     "data": {
      "text/html": [
       "<div>\n",
       "<style scoped>\n",
       "    .dataframe tbody tr th:only-of-type {\n",
       "        vertical-align: middle;\n",
       "    }\n",
       "\n",
       "    .dataframe tbody tr th {\n",
       "        vertical-align: top;\n",
       "    }\n",
       "\n",
       "    .dataframe thead th {\n",
       "        text-align: right;\n",
       "    }\n",
       "</style>\n",
       "<table border=\"1\" class=\"dataframe\">\n",
       "  <thead>\n",
       "    <tr style=\"text-align: right;\">\n",
       "      <th></th>\n",
       "      <th>GEOID</th>\n",
       "      <th>year</th>\n",
       "      <th>name</th>\n",
       "      <th>parent-location</th>\n",
       "      <th>population</th>\n",
       "      <th>poverty-rate</th>\n",
       "      <th>renter-occupied-households</th>\n",
       "      <th>pct-renter-occupied</th>\n",
       "      <th>median-gross-rent</th>\n",
       "      <th>median-household-income</th>\n",
       "      <th>...</th>\n",
       "      <th>pct-nh-pi</th>\n",
       "      <th>pct-multiple</th>\n",
       "      <th>pct-other</th>\n",
       "      <th>eviction-filings</th>\n",
       "      <th>evictions</th>\n",
       "      <th>eviction-rate</th>\n",
       "      <th>eviction-filing-rate</th>\n",
       "      <th>low-flag</th>\n",
       "      <th>imputed</th>\n",
       "      <th>subbed</th>\n",
       "    </tr>\n",
       "  </thead>\n",
       "  <tbody>\n",
       "    <tr>\n",
       "      <th>0</th>\n",
       "      <td>17001000100</td>\n",
       "      <td>2000</td>\n",
       "      <td>1.0</td>\n",
       "      <td>Adams County, Illinois</td>\n",
       "      <td>4326.0</td>\n",
       "      <td>5.44</td>\n",
       "      <td>243.0</td>\n",
       "      <td>12.44</td>\n",
       "      <td>469.0</td>\n",
       "      <td>31825.0</td>\n",
       "      <td>...</td>\n",
       "      <td>0.0</td>\n",
       "      <td>0.67</td>\n",
       "      <td>0.0</td>\n",
       "      <td>3.0</td>\n",
       "      <td>3.0</td>\n",
       "      <td>1.23</td>\n",
       "      <td>1.23</td>\n",
       "      <td>1</td>\n",
       "      <td>0</td>\n",
       "      <td>0</td>\n",
       "    </tr>\n",
       "    <tr>\n",
       "      <th>1</th>\n",
       "      <td>17001000100</td>\n",
       "      <td>2001</td>\n",
       "      <td>1.0</td>\n",
       "      <td>Adams County, Illinois</td>\n",
       "      <td>4326.0</td>\n",
       "      <td>5.44</td>\n",
       "      <td>251.0</td>\n",
       "      <td>12.44</td>\n",
       "      <td>469.0</td>\n",
       "      <td>31825.0</td>\n",
       "      <td>...</td>\n",
       "      <td>0.0</td>\n",
       "      <td>0.67</td>\n",
       "      <td>0.0</td>\n",
       "      <td>1.0</td>\n",
       "      <td>0.0</td>\n",
       "      <td>0.00</td>\n",
       "      <td>0.40</td>\n",
       "      <td>1</td>\n",
       "      <td>0</td>\n",
       "      <td>0</td>\n",
       "    </tr>\n",
       "    <tr>\n",
       "      <th>2</th>\n",
       "      <td>17001000100</td>\n",
       "      <td>2002</td>\n",
       "      <td>1.0</td>\n",
       "      <td>Adams County, Illinois</td>\n",
       "      <td>4326.0</td>\n",
       "      <td>5.44</td>\n",
       "      <td>260.0</td>\n",
       "      <td>12.44</td>\n",
       "      <td>469.0</td>\n",
       "      <td>31825.0</td>\n",
       "      <td>...</td>\n",
       "      <td>0.0</td>\n",
       "      <td>0.67</td>\n",
       "      <td>0.0</td>\n",
       "      <td>6.0</td>\n",
       "      <td>3.0</td>\n",
       "      <td>1.16</td>\n",
       "      <td>2.31</td>\n",
       "      <td>1</td>\n",
       "      <td>0</td>\n",
       "      <td>0</td>\n",
       "    </tr>\n",
       "    <tr>\n",
       "      <th>3</th>\n",
       "      <td>17001000100</td>\n",
       "      <td>2003</td>\n",
       "      <td>1.0</td>\n",
       "      <td>Adams County, Illinois</td>\n",
       "      <td>4326.0</td>\n",
       "      <td>5.44</td>\n",
       "      <td>268.0</td>\n",
       "      <td>12.44</td>\n",
       "      <td>469.0</td>\n",
       "      <td>31825.0</td>\n",
       "      <td>...</td>\n",
       "      <td>0.0</td>\n",
       "      <td>0.67</td>\n",
       "      <td>0.0</td>\n",
       "      <td>4.0</td>\n",
       "      <td>3.0</td>\n",
       "      <td>1.12</td>\n",
       "      <td>1.49</td>\n",
       "      <td>1</td>\n",
       "      <td>0</td>\n",
       "      <td>0</td>\n",
       "    </tr>\n",
       "    <tr>\n",
       "      <th>4</th>\n",
       "      <td>17001000100</td>\n",
       "      <td>2004</td>\n",
       "      <td>1.0</td>\n",
       "      <td>Adams County, Illinois</td>\n",
       "      <td>4326.0</td>\n",
       "      <td>5.44</td>\n",
       "      <td>276.0</td>\n",
       "      <td>12.44</td>\n",
       "      <td>469.0</td>\n",
       "      <td>31825.0</td>\n",
       "      <td>...</td>\n",
       "      <td>0.0</td>\n",
       "      <td>0.67</td>\n",
       "      <td>0.0</td>\n",
       "      <td>3.0</td>\n",
       "      <td>2.0</td>\n",
       "      <td>0.72</td>\n",
       "      <td>1.09</td>\n",
       "      <td>1</td>\n",
       "      <td>0</td>\n",
       "      <td>0</td>\n",
       "    </tr>\n",
       "  </tbody>\n",
       "</table>\n",
       "<p>5 rows × 27 columns</p>\n",
       "</div>"
      ],
      "text/plain": [
       "         GEOID  year  name         parent-location  population  poverty-rate  \\\n",
       "0  17001000100  2000   1.0  Adams County, Illinois      4326.0          5.44   \n",
       "1  17001000100  2001   1.0  Adams County, Illinois      4326.0          5.44   \n",
       "2  17001000100  2002   1.0  Adams County, Illinois      4326.0          5.44   \n",
       "3  17001000100  2003   1.0  Adams County, Illinois      4326.0          5.44   \n",
       "4  17001000100  2004   1.0  Adams County, Illinois      4326.0          5.44   \n",
       "\n",
       "   renter-occupied-households  pct-renter-occupied  median-gross-rent  \\\n",
       "0                       243.0                12.44              469.0   \n",
       "1                       251.0                12.44              469.0   \n",
       "2                       260.0                12.44              469.0   \n",
       "3                       268.0                12.44              469.0   \n",
       "4                       276.0                12.44              469.0   \n",
       "\n",
       "   median-household-income  ...  pct-nh-pi  pct-multiple  pct-other  \\\n",
       "0                  31825.0  ...        0.0          0.67        0.0   \n",
       "1                  31825.0  ...        0.0          0.67        0.0   \n",
       "2                  31825.0  ...        0.0          0.67        0.0   \n",
       "3                  31825.0  ...        0.0          0.67        0.0   \n",
       "4                  31825.0  ...        0.0          0.67        0.0   \n",
       "\n",
       "   eviction-filings  evictions  eviction-rate  eviction-filing-rate  low-flag  \\\n",
       "0               3.0        3.0           1.23                  1.23         1   \n",
       "1               1.0        0.0           0.00                  0.40         1   \n",
       "2               6.0        3.0           1.16                  2.31         1   \n",
       "3               4.0        3.0           1.12                  1.49         1   \n",
       "4               3.0        2.0           0.72                  1.09         1   \n",
       "\n",
       "   imputed  subbed  \n",
       "0        0       0  \n",
       "1        0       0  \n",
       "2        0       0  \n",
       "3        0       0  \n",
       "4        0       0  \n",
       "\n",
       "[5 rows x 27 columns]"
      ]
     },
     "execution_count": 12,
     "metadata": {},
     "output_type": "execute_result"
    }
   ],
   "source": [
    "tracts_il.head()"
   ]
  },
  {
   "cell_type": "code",
   "execution_count": 13,
   "metadata": {},
   "outputs": [
    {
     "data": {
      "text/plain": [
       "0       1970-01-01 00:00:00.000002000\n",
       "1       1970-01-01 00:00:00.000002001\n",
       "2       1970-01-01 00:00:00.000002002\n",
       "3       1970-01-01 00:00:00.000002003\n",
       "4       1970-01-01 00:00:00.000002004\n",
       "5       1970-01-01 00:00:00.000002005\n",
       "6       1970-01-01 00:00:00.000002006\n",
       "7       1970-01-01 00:00:00.000002007\n",
       "8       1970-01-01 00:00:00.000002008\n",
       "9       1970-01-01 00:00:00.000002009\n",
       "10      1970-01-01 00:00:00.000002010\n",
       "11      1970-01-01 00:00:00.000002011\n",
       "12      1970-01-01 00:00:00.000002012\n",
       "13      1970-01-01 00:00:00.000002013\n",
       "14      1970-01-01 00:00:00.000002014\n",
       "15      1970-01-01 00:00:00.000002015\n",
       "16      1970-01-01 00:00:00.000002016\n",
       "17      1970-01-01 00:00:00.000002000\n",
       "18      1970-01-01 00:00:00.000002001\n",
       "19      1970-01-01 00:00:00.000002002\n",
       "20      1970-01-01 00:00:00.000002003\n",
       "21      1970-01-01 00:00:00.000002004\n",
       "22      1970-01-01 00:00:00.000002005\n",
       "23      1970-01-01 00:00:00.000002006\n",
       "24      1970-01-01 00:00:00.000002007\n",
       "25      1970-01-01 00:00:00.000002008\n",
       "26      1970-01-01 00:00:00.000002009\n",
       "27      1970-01-01 00:00:00.000002010\n",
       "28      1970-01-01 00:00:00.000002011\n",
       "29      1970-01-01 00:00:00.000002012\n",
       "                     ...             \n",
       "53061   1970-01-01 00:00:00.000002004\n",
       "53062   1970-01-01 00:00:00.000002005\n",
       "53063   1970-01-01 00:00:00.000002006\n",
       "53064   1970-01-01 00:00:00.000002007\n",
       "53065   1970-01-01 00:00:00.000002008\n",
       "53066   1970-01-01 00:00:00.000002009\n",
       "53067   1970-01-01 00:00:00.000002010\n",
       "53068   1970-01-01 00:00:00.000002011\n",
       "53069   1970-01-01 00:00:00.000002012\n",
       "53070   1970-01-01 00:00:00.000002013\n",
       "53071   1970-01-01 00:00:00.000002014\n",
       "53072   1970-01-01 00:00:00.000002015\n",
       "53073   1970-01-01 00:00:00.000002016\n",
       "53074   1970-01-01 00:00:00.000002000\n",
       "53075   1970-01-01 00:00:00.000002001\n",
       "53076   1970-01-01 00:00:00.000002002\n",
       "53077   1970-01-01 00:00:00.000002003\n",
       "53078   1970-01-01 00:00:00.000002004\n",
       "53079   1970-01-01 00:00:00.000002005\n",
       "53080   1970-01-01 00:00:00.000002006\n",
       "53081   1970-01-01 00:00:00.000002007\n",
       "53082   1970-01-01 00:00:00.000002008\n",
       "53083   1970-01-01 00:00:00.000002009\n",
       "53084   1970-01-01 00:00:00.000002010\n",
       "53085   1970-01-01 00:00:00.000002011\n",
       "53086   1970-01-01 00:00:00.000002012\n",
       "53087   1970-01-01 00:00:00.000002013\n",
       "53088   1970-01-01 00:00:00.000002014\n",
       "53089   1970-01-01 00:00:00.000002015\n",
       "53090   1970-01-01 00:00:00.000002016\n",
       "Name: year, Length: 53091, dtype: datetime64[ns]"
      ]
     },
     "execution_count": 13,
     "metadata": {},
     "output_type": "execute_result"
    }
   ],
   "source": [
    "pd.to_datetime(tracts_il['year'])"
   ]
  },
  {
   "cell_type": "code",
   "execution_count": 15,
   "metadata": {},
   "outputs": [],
   "source": [
    "tracts_il['year'] = pd.to_datetime(tracts_il['year'], format = '%Y')"
   ]
  },
  {
   "cell_type": "code",
   "execution_count": 16,
   "metadata": {},
   "outputs": [
    {
     "data": {
      "text/plain": [
       "0    Adams County, Illinois\n",
       "1    Adams County, Illinois\n",
       "2    Adams County, Illinois\n",
       "3    Adams County, Illinois\n",
       "4    Adams County, Illinois\n",
       "Name: parent-location, dtype: object"
      ]
     },
     "execution_count": 16,
     "metadata": {},
     "output_type": "execute_result"
    }
   ],
   "source": [
    "tracts_il['parent-location'].head()"
   ]
  },
  {
   "cell_type": "code",
   "execution_count": 19,
   "metadata": {},
   "outputs": [
    {
     "data": {
      "text/plain": [
       "array(['Adams County, Illinois', 'Alexander County, Illinois',\n",
       "       'Bond County, Illinois', 'Boone County, Illinois',\n",
       "       'Brown County, Illinois', 'Bureau County, Illinois',\n",
       "       'Calhoun County, Illinois', 'Carroll County, Illinois',\n",
       "       'Cass County, Illinois', 'Champaign County, Illinois',\n",
       "       'Christian County, Illinois', 'Clark County, Illinois',\n",
       "       'Clay County, Illinois', 'Clinton County, Illinois',\n",
       "       'Coles County, Illinois', 'Cook County, Illinois',\n",
       "       'Crawford County, Illinois', 'Cumberland County, Illinois',\n",
       "       'DeKalb County, Illinois', 'De Witt County, Illinois',\n",
       "       'Douglas County, Illinois', 'DuPage County, Illinois',\n",
       "       'Edgar County, Illinois', 'Edwards County, Illinois',\n",
       "       'Effingham County, Illinois', 'Fayette County, Illinois',\n",
       "       'Ford County, Illinois', 'Franklin County, Illinois',\n",
       "       'Fulton County, Illinois', 'Gallatin County, Illinois',\n",
       "       'Greene County, Illinois', 'Grundy County, Illinois',\n",
       "       'Hamilton County, Illinois', 'Hancock County, Illinois',\n",
       "       'Hardin County, Illinois', 'Henderson County, Illinois',\n",
       "       'Henry County, Illinois', 'Iroquois County, Illinois',\n",
       "       'Jackson County, Illinois', 'Jasper County, Illinois',\n",
       "       'Jefferson County, Illinois', 'Jersey County, Illinois',\n",
       "       'Jo Daviess County, Illinois', 'Johnson County, Illinois',\n",
       "       'Kane County, Illinois', 'Kankakee County, Illinois',\n",
       "       'Kendall County, Illinois', 'Knox County, Illinois',\n",
       "       'Lake County, Illinois', 'LaSalle County, Illinois',\n",
       "       'Lawrence County, Illinois', 'Lee County, Illinois',\n",
       "       'Livingston County, Illinois', 'Logan County, Illinois',\n",
       "       'McDonough County, Illinois', 'McHenry County, Illinois',\n",
       "       'McLean County, Illinois', 'Macon County, Illinois',\n",
       "       'Macoupin County, Illinois', 'Madison County, Illinois',\n",
       "       'Marion County, Illinois', 'Marshall County, Illinois',\n",
       "       'Mason County, Illinois', 'Massac County, Illinois',\n",
       "       'Menard County, Illinois', 'Mercer County, Illinois',\n",
       "       'Monroe County, Illinois', 'Montgomery County, Illinois',\n",
       "       'Morgan County, Illinois', 'Moultrie County, Illinois',\n",
       "       'Ogle County, Illinois', 'Peoria County, Illinois',\n",
       "       'Perry County, Illinois', 'Piatt County, Illinois',\n",
       "       'Pike County, Illinois', 'Pope County, Illinois',\n",
       "       'Pulaski County, Illinois', 'Putnam County, Illinois',\n",
       "       'Randolph County, Illinois', 'Richland County, Illinois',\n",
       "       'Rock Island County, Illinois', 'St. Clair County, Illinois',\n",
       "       'Saline County, Illinois', 'Sangamon County, Illinois',\n",
       "       'Schuyler County, Illinois', 'Scott County, Illinois',\n",
       "       'Shelby County, Illinois', 'Stark County, Illinois',\n",
       "       'Stephenson County, Illinois', 'Tazewell County, Illinois',\n",
       "       'Union County, Illinois', 'Vermilion County, Illinois',\n",
       "       'Wabash County, Illinois', 'Warren County, Illinois',\n",
       "       'Washington County, Illinois', 'Wayne County, Illinois',\n",
       "       'White County, Illinois', 'Whiteside County, Illinois',\n",
       "       'Will County, Illinois', 'Williamson County, Illinois',\n",
       "       'Winnebago County, Illinois', 'Woodford County, Illinois'],\n",
       "      dtype=object)"
      ]
     },
     "execution_count": 19,
     "metadata": {},
     "output_type": "execute_result"
    }
   ],
   "source": [
    "tracts_il['parent-location'].unique()"
   ]
  },
  {
   "cell_type": "code",
   "execution_count": 22,
   "metadata": {},
   "outputs": [
    {
     "data": {
      "text/plain": [
       "parent-location\n",
       "Adams County, Illinois        306\n",
       "Alexander County, Illinois     68\n",
       "Bond County, Illinois          68\n",
       "Boone County, Illinois        119\n",
       "Brown County, Illinois         34\n",
       "dtype: int64"
      ]
     },
     "execution_count": 22,
     "metadata": {},
     "output_type": "execute_result"
    }
   ],
   "source": [
    "tracts_il.groupby('parent-location').size().head()"
   ]
  },
  {
   "cell_type": "code",
   "execution_count": 26,
   "metadata": {},
   "outputs": [
    {
     "data": {
      "text/plain": [
       "Index(['Cook County, Illinois', 'DuPage County, Illinois',\n",
       "       'Lake County, Illinois', 'Will County, Illinois',\n",
       "       'Kane County, Illinois'],\n",
       "      dtype='object', name='parent-location')"
      ]
     },
     "execution_count": 26,
     "metadata": {},
     "output_type": "execute_result"
    }
   ],
   "source": [
    "tracts_il.groupby('parent-location').size().sort_values(ascending = False).head().index"
   ]
  },
  {
   "cell_type": "code",
   "execution_count": 27,
   "metadata": {},
   "outputs": [
    {
     "data": {
      "text/plain": [
       "['Cook County, Illinois',\n",
       " 'DuPage County, Illinois',\n",
       " 'Lake County, Illinois',\n",
       " 'Will County, Illinois',\n",
       " 'Kane County, Illinois']"
      ]
     },
     "execution_count": 27,
     "metadata": {},
     "output_type": "execute_result"
    }
   ],
   "source": [
    "greatest_counties = list(tracts_il.groupby('parent-location')\n",
    "                         .size().sort_values(ascending = False)\n",
    "                         .head(5).index)\n",
    "greatest_counties"
   ]
  },
  {
   "cell_type": "code",
   "execution_count": 28,
   "metadata": {},
   "outputs": [
    {
     "data": {
      "text/html": [
       "<div>\n",
       "<style scoped>\n",
       "    .dataframe tbody tr th:only-of-type {\n",
       "        vertical-align: middle;\n",
       "    }\n",
       "\n",
       "    .dataframe tbody tr th {\n",
       "        vertical-align: top;\n",
       "    }\n",
       "\n",
       "    .dataframe thead th {\n",
       "        text-align: right;\n",
       "    }\n",
       "</style>\n",
       "<table border=\"1\" class=\"dataframe\">\n",
       "  <thead>\n",
       "    <tr style=\"text-align: right;\">\n",
       "      <th></th>\n",
       "      <th>evictions</th>\n",
       "      <th>eviction-rate</th>\n",
       "    </tr>\n",
       "    <tr>\n",
       "      <th>parent-location</th>\n",
       "      <th></th>\n",
       "      <th></th>\n",
       "    </tr>\n",
       "  </thead>\n",
       "  <tbody>\n",
       "    <tr>\n",
       "      <th>Cook County, Illinois</th>\n",
       "      <td>6.752665</td>\n",
       "      <td>0.590</td>\n",
       "    </tr>\n",
       "    <tr>\n",
       "      <th>DuPage County, Illinois</th>\n",
       "      <td>9.713252</td>\n",
       "      <td>2.060</td>\n",
       "    </tr>\n",
       "    <tr>\n",
       "      <th>Kane County, Illinois</th>\n",
       "      <td>12.269817</td>\n",
       "      <td>2.250</td>\n",
       "    </tr>\n",
       "    <tr>\n",
       "      <th>Lake County, Illinois</th>\n",
       "      <td>9.590097</td>\n",
       "      <td>2.105</td>\n",
       "    </tr>\n",
       "    <tr>\n",
       "      <th>Will County, Illinois</th>\n",
       "      <td>10.628289</td>\n",
       "      <td>3.300</td>\n",
       "    </tr>\n",
       "  </tbody>\n",
       "</table>\n",
       "</div>"
      ],
      "text/plain": [
       "                         evictions  eviction-rate\n",
       "parent-location                                  \n",
       "Cook County, Illinois     6.752665          0.590\n",
       "DuPage County, Illinois   9.713252          2.060\n",
       "Kane County, Illinois    12.269817          2.250\n",
       "Lake County, Illinois     9.590097          2.105\n",
       "Will County, Illinois    10.628289          3.300"
      ]
     },
     "execution_count": 28,
     "metadata": {},
     "output_type": "execute_result"
    }
   ],
   "source": [
    "tracts_il_subset = tracts_il[tracts_il['parent-location']\\\n",
    "                             .isin(greatest_counties)]\n",
    "\n",
    "tracts_il_subset.groupby('parent-location')\\\n",
    ".agg({'evictions' : 'mean', 'eviction-rate': 'median'}).head(15)"
   ]
  },
  {
   "cell_type": "code",
   "execution_count": null,
   "metadata": {},
   "outputs": [],
   "source": [
    "tracts_il_subset.groupby('parent-location')\\\n",
    ".agg({'evictions' : 'mean', 'eviction-rate': 'median'})"
   ]
  },
  {
   "cell_type": "code",
   "execution_count": 30,
   "metadata": {},
   "outputs": [
    {
     "data": {
      "text/plain": [
       "parent-location        year      \n",
       "Cook County, Illinois  2000-01-01    1319\n",
       "                       2001-01-01    1319\n",
       "                       2002-01-01    1319\n",
       "                       2003-01-01    1319\n",
       "                       2004-01-01    1319\n",
       "dtype: int64"
      ]
     },
     "execution_count": 30,
     "metadata": {},
     "output_type": "execute_result"
    }
   ],
   "source": [
    "tracts_il_subset.groupby(['parent-location', 'year']).size().head()"
   ]
  },
  {
   "cell_type": "code",
   "execution_count": 31,
   "metadata": {},
   "outputs": [
    {
     "data": {
      "text/html": [
       "<div>\n",
       "<style scoped>\n",
       "    .dataframe tbody tr th:only-of-type {\n",
       "        vertical-align: middle;\n",
       "    }\n",
       "\n",
       "    .dataframe tbody tr th {\n",
       "        vertical-align: top;\n",
       "    }\n",
       "\n",
       "    .dataframe thead th {\n",
       "        text-align: right;\n",
       "    }\n",
       "</style>\n",
       "<table border=\"1\" class=\"dataframe\">\n",
       "  <thead>\n",
       "    <tr style=\"text-align: right;\">\n",
       "      <th></th>\n",
       "      <th></th>\n",
       "      <th>eviction-rate</th>\n",
       "    </tr>\n",
       "    <tr>\n",
       "      <th>parent-location</th>\n",
       "      <th>year</th>\n",
       "      <th></th>\n",
       "    </tr>\n",
       "  </thead>\n",
       "  <tbody>\n",
       "    <tr>\n",
       "      <th rowspan=\"17\" valign=\"top\">Cook County, Illinois</th>\n",
       "      <th>2000-01-01</th>\n",
       "      <td>0.016179</td>\n",
       "    </tr>\n",
       "    <tr>\n",
       "      <th>2001-01-01</th>\n",
       "      <td>0.012691</td>\n",
       "    </tr>\n",
       "    <tr>\n",
       "      <th>2002-01-01</th>\n",
       "      <td>0.009234</td>\n",
       "    </tr>\n",
       "    <tr>\n",
       "      <th>2003-01-01</th>\n",
       "      <td>0.013397</td>\n",
       "    </tr>\n",
       "    <tr>\n",
       "      <th>2004-01-01</th>\n",
       "      <td>0.013980</td>\n",
       "    </tr>\n",
       "    <tr>\n",
       "      <th>2005-01-01</th>\n",
       "      <td>0.032585</td>\n",
       "    </tr>\n",
       "    <tr>\n",
       "      <th>2006-01-01</th>\n",
       "      <td>1.398052</td>\n",
       "    </tr>\n",
       "    <tr>\n",
       "      <th>2007-01-01</th>\n",
       "      <td>1.595262</td>\n",
       "    </tr>\n",
       "    <tr>\n",
       "      <th>2008-01-01</th>\n",
       "      <td>1.905292</td>\n",
       "    </tr>\n",
       "    <tr>\n",
       "      <th>2009-01-01</th>\n",
       "      <td>2.055951</td>\n",
       "    </tr>\n",
       "    <tr>\n",
       "      <th>2010-01-01</th>\n",
       "      <td>2.054428</td>\n",
       "    </tr>\n",
       "    <tr>\n",
       "      <th>2011-01-01</th>\n",
       "      <td>1.992676</td>\n",
       "    </tr>\n",
       "    <tr>\n",
       "      <th>2012-01-01</th>\n",
       "      <td>2.097271</td>\n",
       "    </tr>\n",
       "    <tr>\n",
       "      <th>2013-01-01</th>\n",
       "      <td>1.841577</td>\n",
       "    </tr>\n",
       "    <tr>\n",
       "      <th>2014-01-01</th>\n",
       "      <td>1.668453</td>\n",
       "    </tr>\n",
       "    <tr>\n",
       "      <th>2015-01-01</th>\n",
       "      <td>1.529409</td>\n",
       "    </tr>\n",
       "    <tr>\n",
       "      <th>2016-01-01</th>\n",
       "      <td>1.418620</td>\n",
       "    </tr>\n",
       "    <tr>\n",
       "      <th rowspan=\"3\" valign=\"top\">DuPage County, Illinois</th>\n",
       "      <th>2000-01-01</th>\n",
       "      <td>NaN</td>\n",
       "    </tr>\n",
       "    <tr>\n",
       "      <th>2001-01-01</th>\n",
       "      <td>2.376944</td>\n",
       "    </tr>\n",
       "    <tr>\n",
       "      <th>2002-01-01</th>\n",
       "      <td>2.237083</td>\n",
       "    </tr>\n",
       "  </tbody>\n",
       "</table>\n",
       "</div>"
      ],
      "text/plain": [
       "                                    eviction-rate\n",
       "parent-location         year                     \n",
       "Cook County, Illinois   2000-01-01       0.016179\n",
       "                        2001-01-01       0.012691\n",
       "                        2002-01-01       0.009234\n",
       "                        2003-01-01       0.013397\n",
       "                        2004-01-01       0.013980\n",
       "                        2005-01-01       0.032585\n",
       "                        2006-01-01       1.398052\n",
       "                        2007-01-01       1.595262\n",
       "                        2008-01-01       1.905292\n",
       "                        2009-01-01       2.055951\n",
       "                        2010-01-01       2.054428\n",
       "                        2011-01-01       1.992676\n",
       "                        2012-01-01       2.097271\n",
       "                        2013-01-01       1.841577\n",
       "                        2014-01-01       1.668453\n",
       "                        2015-01-01       1.529409\n",
       "                        2016-01-01       1.418620\n",
       "DuPage County, Illinois 2000-01-01            NaN\n",
       "                        2001-01-01       2.376944\n",
       "                        2002-01-01       2.237083"
      ]
     },
     "execution_count": 31,
     "metadata": {},
     "output_type": "execute_result"
    }
   ],
   "source": [
    "mean_evition_rate_by_year = tracts_il_subset\\\n",
    "                            .groupby(['parent-location', 'year'])\\\n",
    "                            .agg({'eviction-rate': 'mean'})\n",
    "\n",
    "mean_evition_rate_by_year.head(20)"
   ]
  },
  {
   "cell_type": "code",
   "execution_count": 34,
   "metadata": {},
   "outputs": [
    {
     "data": {
      "text/plain": [
       "MultiIndex(levels=[['Cook County, Illinois', 'DuPage County, Illinois', 'Kane County, Illinois', 'Lake County, Illinois', 'Will County, Illinois'], [2000-01-01 00:00:00, 2001-01-01 00:00:00, 2002-01-01 00:00:00, 2003-01-01 00:00:00, 2004-01-01 00:00:00, 2005-01-01 00:00:00, 2006-01-01 00:00:00, 2007-01-01 00:00:00, 2008-01-01 00:00:00, 2009-01-01 00:00:00, 2010-01-01 00:00:00, 2011-01-01 00:00:00, 2012-01-01 00:00:00, 2013-01-01 00:00:00, 2014-01-01 00:00:00, 2015-01-01 00:00:00, 2016-01-01 00:00:00]],\n",
       "           codes=[[0, 0, 0, 0, 0, 0, 0, 0, 0, 0, 0, 0, 0, 0, 0, 0, 0, 1, 1, 1, 1, 1, 1, 1, 1, 1, 1, 1, 1, 1, 1, 1, 1, 1, 2, 2, 2, 2, 2, 2, 2, 2, 2, 2, 2, 2, 2, 2, 2, 2, 2, 3, 3, 3, 3, 3, 3, 3, 3, 3, 3, 3, 3, 3, 3, 3, 3, 3, 4, 4, 4, 4, 4, 4, 4, 4, 4, 4, 4, 4, 4, 4, 4, 4, 4], [0, 1, 2, 3, 4, 5, 6, 7, 8, 9, 10, 11, 12, 13, 14, 15, 16, 0, 1, 2, 3, 4, 5, 6, 7, 8, 9, 10, 11, 12, 13, 14, 15, 16, 0, 1, 2, 3, 4, 5, 6, 7, 8, 9, 10, 11, 12, 13, 14, 15, 16, 0, 1, 2, 3, 4, 5, 6, 7, 8, 9, 10, 11, 12, 13, 14, 15, 16, 0, 1, 2, 3, 4, 5, 6, 7, 8, 9, 10, 11, 12, 13, 14, 15, 16]],\n",
       "           names=['parent-location', 'year'])"
      ]
     },
     "execution_count": 34,
     "metadata": {},
     "output_type": "execute_result"
    }
   ],
   "source": [
    "mean_evition_rate_by_year.index"
   ]
  },
  {
   "cell_type": "code",
   "execution_count": 35,
   "metadata": {},
   "outputs": [
    {
     "data": {
      "text/html": [
       "<div>\n",
       "<style scoped>\n",
       "    .dataframe tbody tr th:only-of-type {\n",
       "        vertical-align: middle;\n",
       "    }\n",
       "\n",
       "    .dataframe tbody tr th {\n",
       "        vertical-align: top;\n",
       "    }\n",
       "\n",
       "    .dataframe thead tr th {\n",
       "        text-align: left;\n",
       "    }\n",
       "\n",
       "    .dataframe thead tr:last-of-type th {\n",
       "        text-align: right;\n",
       "    }\n",
       "</style>\n",
       "<table border=\"1\" class=\"dataframe\">\n",
       "  <thead>\n",
       "    <tr>\n",
       "      <th></th>\n",
       "      <th colspan=\"17\" halign=\"left\">eviction-rate</th>\n",
       "    </tr>\n",
       "    <tr>\n",
       "      <th>year</th>\n",
       "      <th>2000-01-01</th>\n",
       "      <th>2001-01-01</th>\n",
       "      <th>2002-01-01</th>\n",
       "      <th>2003-01-01</th>\n",
       "      <th>2004-01-01</th>\n",
       "      <th>2005-01-01</th>\n",
       "      <th>2006-01-01</th>\n",
       "      <th>2007-01-01</th>\n",
       "      <th>2008-01-01</th>\n",
       "      <th>2009-01-01</th>\n",
       "      <th>2010-01-01</th>\n",
       "      <th>2011-01-01</th>\n",
       "      <th>2012-01-01</th>\n",
       "      <th>2013-01-01</th>\n",
       "      <th>2014-01-01</th>\n",
       "      <th>2015-01-01</th>\n",
       "      <th>2016-01-01</th>\n",
       "    </tr>\n",
       "    <tr>\n",
       "      <th>parent-location</th>\n",
       "      <th></th>\n",
       "      <th></th>\n",
       "      <th></th>\n",
       "      <th></th>\n",
       "      <th></th>\n",
       "      <th></th>\n",
       "      <th></th>\n",
       "      <th></th>\n",
       "      <th></th>\n",
       "      <th></th>\n",
       "      <th></th>\n",
       "      <th></th>\n",
       "      <th></th>\n",
       "      <th></th>\n",
       "      <th></th>\n",
       "      <th></th>\n",
       "      <th></th>\n",
       "    </tr>\n",
       "  </thead>\n",
       "  <tbody>\n",
       "    <tr>\n",
       "      <th>Cook County, Illinois</th>\n",
       "      <td>0.016179</td>\n",
       "      <td>0.012691</td>\n",
       "      <td>0.009234</td>\n",
       "      <td>0.013397</td>\n",
       "      <td>0.013980</td>\n",
       "      <td>0.032585</td>\n",
       "      <td>1.398052</td>\n",
       "      <td>1.595262</td>\n",
       "      <td>1.905292</td>\n",
       "      <td>2.055951</td>\n",
       "      <td>2.054428</td>\n",
       "      <td>1.992676</td>\n",
       "      <td>2.097271</td>\n",
       "      <td>1.841577</td>\n",
       "      <td>1.668453</td>\n",
       "      <td>1.529409</td>\n",
       "      <td>1.418620</td>\n",
       "    </tr>\n",
       "    <tr>\n",
       "      <th>DuPage County, Illinois</th>\n",
       "      <td>NaN</td>\n",
       "      <td>2.376944</td>\n",
       "      <td>2.237083</td>\n",
       "      <td>2.116713</td>\n",
       "      <td>2.491389</td>\n",
       "      <td>1.987731</td>\n",
       "      <td>2.535463</td>\n",
       "      <td>3.197130</td>\n",
       "      <td>3.257685</td>\n",
       "      <td>3.265880</td>\n",
       "      <td>3.218148</td>\n",
       "      <td>3.269352</td>\n",
       "      <td>2.784491</td>\n",
       "      <td>2.510741</td>\n",
       "      <td>2.433843</td>\n",
       "      <td>2.108657</td>\n",
       "      <td>1.674398</td>\n",
       "    </tr>\n",
       "    <tr>\n",
       "      <th>Kane County, Illinois</th>\n",
       "      <td>NaN</td>\n",
       "      <td>2.926585</td>\n",
       "      <td>3.080366</td>\n",
       "      <td>2.886585</td>\n",
       "      <td>3.112073</td>\n",
       "      <td>3.389878</td>\n",
       "      <td>3.945122</td>\n",
       "      <td>1.151707</td>\n",
       "      <td>1.897927</td>\n",
       "      <td>3.642195</td>\n",
       "      <td>3.180122</td>\n",
       "      <td>2.991585</td>\n",
       "      <td>3.165000</td>\n",
       "      <td>2.530854</td>\n",
       "      <td>2.705000</td>\n",
       "      <td>1.703415</td>\n",
       "      <td>1.518171</td>\n",
       "    </tr>\n",
       "    <tr>\n",
       "      <th>Lake County, Illinois</th>\n",
       "      <td>NaN</td>\n",
       "      <td>1.876364</td>\n",
       "      <td>1.316299</td>\n",
       "      <td>2.275844</td>\n",
       "      <td>2.229935</td>\n",
       "      <td>2.178506</td>\n",
       "      <td>2.466039</td>\n",
       "      <td>2.913896</td>\n",
       "      <td>3.024740</td>\n",
       "      <td>3.369805</td>\n",
       "      <td>3.110844</td>\n",
       "      <td>3.049351</td>\n",
       "      <td>2.732857</td>\n",
       "      <td>2.235260</td>\n",
       "      <td>2.408701</td>\n",
       "      <td>2.234740</td>\n",
       "      <td>2.100714</td>\n",
       "    </tr>\n",
       "    <tr>\n",
       "      <th>Will County, Illinois</th>\n",
       "      <td>NaN</td>\n",
       "      <td>4.225395</td>\n",
       "      <td>3.661776</td>\n",
       "      <td>4.273553</td>\n",
       "      <td>4.759276</td>\n",
       "      <td>4.495855</td>\n",
       "      <td>3.255197</td>\n",
       "      <td>2.903224</td>\n",
       "      <td>3.370592</td>\n",
       "      <td>6.963421</td>\n",
       "      <td>4.803816</td>\n",
       "      <td>5.772500</td>\n",
       "      <td>5.755132</td>\n",
       "      <td>4.756447</td>\n",
       "      <td>4.692039</td>\n",
       "      <td>4.587303</td>\n",
       "      <td>3.809079</td>\n",
       "    </tr>\n",
       "  </tbody>\n",
       "</table>\n",
       "</div>"
      ],
      "text/plain": [
       "                        eviction-rate                                   \\\n",
       "year                       2000-01-01 2001-01-01 2002-01-01 2003-01-01   \n",
       "parent-location                                                          \n",
       "Cook County, Illinois        0.016179   0.012691   0.009234   0.013397   \n",
       "DuPage County, Illinois           NaN   2.376944   2.237083   2.116713   \n",
       "Kane County, Illinois             NaN   2.926585   3.080366   2.886585   \n",
       "Lake County, Illinois             NaN   1.876364   1.316299   2.275844   \n",
       "Will County, Illinois             NaN   4.225395   3.661776   4.273553   \n",
       "\n",
       "                                                                     \\\n",
       "year                    2004-01-01 2005-01-01 2006-01-01 2007-01-01   \n",
       "parent-location                                                       \n",
       "Cook County, Illinois     0.013980   0.032585   1.398052   1.595262   \n",
       "DuPage County, Illinois   2.491389   1.987731   2.535463   3.197130   \n",
       "Kane County, Illinois     3.112073   3.389878   3.945122   1.151707   \n",
       "Lake County, Illinois     2.229935   2.178506   2.466039   2.913896   \n",
       "Will County, Illinois     4.759276   4.495855   3.255197   2.903224   \n",
       "\n",
       "                                                                     \\\n",
       "year                    2008-01-01 2009-01-01 2010-01-01 2011-01-01   \n",
       "parent-location                                                       \n",
       "Cook County, Illinois     1.905292   2.055951   2.054428   1.992676   \n",
       "DuPage County, Illinois   3.257685   3.265880   3.218148   3.269352   \n",
       "Kane County, Illinois     1.897927   3.642195   3.180122   2.991585   \n",
       "Lake County, Illinois     3.024740   3.369805   3.110844   3.049351   \n",
       "Will County, Illinois     3.370592   6.963421   4.803816   5.772500   \n",
       "\n",
       "                                                                                \n",
       "year                    2012-01-01 2013-01-01 2014-01-01 2015-01-01 2016-01-01  \n",
       "parent-location                                                                 \n",
       "Cook County, Illinois     2.097271   1.841577   1.668453   1.529409   1.418620  \n",
       "DuPage County, Illinois   2.784491   2.510741   2.433843   2.108657   1.674398  \n",
       "Kane County, Illinois     3.165000   2.530854   2.705000   1.703415   1.518171  \n",
       "Lake County, Illinois     2.732857   2.235260   2.408701   2.234740   2.100714  \n",
       "Will County, Illinois     5.755132   4.756447   4.692039   4.587303   3.809079  "
      ]
     },
     "execution_count": 35,
     "metadata": {},
     "output_type": "execute_result"
    }
   ],
   "source": [
    "mean_evition_rate_by_year.unstack()"
   ]
  },
  {
   "cell_type": "code",
   "execution_count": 36,
   "metadata": {},
   "outputs": [
    {
     "data": {
      "text/plain": [
       "Index(['Cook County, Illinois', 'DuPage County, Illinois',\n",
       "       'Kane County, Illinois', 'Lake County, Illinois',\n",
       "       'Will County, Illinois'],\n",
       "      dtype='object', name='parent-location')"
      ]
     },
     "execution_count": 36,
     "metadata": {},
     "output_type": "execute_result"
    }
   ],
   "source": [
    "mean_evition_rate_by_year.unstack().index"
   ]
  },
  {
   "cell_type": "code",
   "execution_count": 37,
   "metadata": {},
   "outputs": [
    {
     "data": {
      "text/html": [
       "<div>\n",
       "<style scoped>\n",
       "    .dataframe tbody tr th:only-of-type {\n",
       "        vertical-align: middle;\n",
       "    }\n",
       "\n",
       "    .dataframe tbody tr th {\n",
       "        vertical-align: top;\n",
       "    }\n",
       "\n",
       "    .dataframe thead th {\n",
       "        text-align: right;\n",
       "    }\n",
       "</style>\n",
       "<table border=\"1\" class=\"dataframe\">\n",
       "  <thead>\n",
       "    <tr style=\"text-align: right;\">\n",
       "      <th></th>\n",
       "      <th>parent-location</th>\n",
       "      <th>Cook County, Illinois</th>\n",
       "      <th>DuPage County, Illinois</th>\n",
       "      <th>Kane County, Illinois</th>\n",
       "      <th>Lake County, Illinois</th>\n",
       "      <th>Will County, Illinois</th>\n",
       "    </tr>\n",
       "    <tr>\n",
       "      <th></th>\n",
       "      <th>year</th>\n",
       "      <th></th>\n",
       "      <th></th>\n",
       "      <th></th>\n",
       "      <th></th>\n",
       "      <th></th>\n",
       "    </tr>\n",
       "  </thead>\n",
       "  <tbody>\n",
       "    <tr>\n",
       "      <th rowspan=\"17\" valign=\"top\">eviction-rate</th>\n",
       "      <th>2000-01-01</th>\n",
       "      <td>0.016179</td>\n",
       "      <td>NaN</td>\n",
       "      <td>NaN</td>\n",
       "      <td>NaN</td>\n",
       "      <td>NaN</td>\n",
       "    </tr>\n",
       "    <tr>\n",
       "      <th>2001-01-01</th>\n",
       "      <td>0.012691</td>\n",
       "      <td>2.376944</td>\n",
       "      <td>2.926585</td>\n",
       "      <td>1.876364</td>\n",
       "      <td>4.225395</td>\n",
       "    </tr>\n",
       "    <tr>\n",
       "      <th>2002-01-01</th>\n",
       "      <td>0.009234</td>\n",
       "      <td>2.237083</td>\n",
       "      <td>3.080366</td>\n",
       "      <td>1.316299</td>\n",
       "      <td>3.661776</td>\n",
       "    </tr>\n",
       "    <tr>\n",
       "      <th>2003-01-01</th>\n",
       "      <td>0.013397</td>\n",
       "      <td>2.116713</td>\n",
       "      <td>2.886585</td>\n",
       "      <td>2.275844</td>\n",
       "      <td>4.273553</td>\n",
       "    </tr>\n",
       "    <tr>\n",
       "      <th>2004-01-01</th>\n",
       "      <td>0.013980</td>\n",
       "      <td>2.491389</td>\n",
       "      <td>3.112073</td>\n",
       "      <td>2.229935</td>\n",
       "      <td>4.759276</td>\n",
       "    </tr>\n",
       "    <tr>\n",
       "      <th>2005-01-01</th>\n",
       "      <td>0.032585</td>\n",
       "      <td>1.987731</td>\n",
       "      <td>3.389878</td>\n",
       "      <td>2.178506</td>\n",
       "      <td>4.495855</td>\n",
       "    </tr>\n",
       "    <tr>\n",
       "      <th>2006-01-01</th>\n",
       "      <td>1.398052</td>\n",
       "      <td>2.535463</td>\n",
       "      <td>3.945122</td>\n",
       "      <td>2.466039</td>\n",
       "      <td>3.255197</td>\n",
       "    </tr>\n",
       "    <tr>\n",
       "      <th>2007-01-01</th>\n",
       "      <td>1.595262</td>\n",
       "      <td>3.197130</td>\n",
       "      <td>1.151707</td>\n",
       "      <td>2.913896</td>\n",
       "      <td>2.903224</td>\n",
       "    </tr>\n",
       "    <tr>\n",
       "      <th>2008-01-01</th>\n",
       "      <td>1.905292</td>\n",
       "      <td>3.257685</td>\n",
       "      <td>1.897927</td>\n",
       "      <td>3.024740</td>\n",
       "      <td>3.370592</td>\n",
       "    </tr>\n",
       "    <tr>\n",
       "      <th>2009-01-01</th>\n",
       "      <td>2.055951</td>\n",
       "      <td>3.265880</td>\n",
       "      <td>3.642195</td>\n",
       "      <td>3.369805</td>\n",
       "      <td>6.963421</td>\n",
       "    </tr>\n",
       "    <tr>\n",
       "      <th>2010-01-01</th>\n",
       "      <td>2.054428</td>\n",
       "      <td>3.218148</td>\n",
       "      <td>3.180122</td>\n",
       "      <td>3.110844</td>\n",
       "      <td>4.803816</td>\n",
       "    </tr>\n",
       "    <tr>\n",
       "      <th>2011-01-01</th>\n",
       "      <td>1.992676</td>\n",
       "      <td>3.269352</td>\n",
       "      <td>2.991585</td>\n",
       "      <td>3.049351</td>\n",
       "      <td>5.772500</td>\n",
       "    </tr>\n",
       "    <tr>\n",
       "      <th>2012-01-01</th>\n",
       "      <td>2.097271</td>\n",
       "      <td>2.784491</td>\n",
       "      <td>3.165000</td>\n",
       "      <td>2.732857</td>\n",
       "      <td>5.755132</td>\n",
       "    </tr>\n",
       "    <tr>\n",
       "      <th>2013-01-01</th>\n",
       "      <td>1.841577</td>\n",
       "      <td>2.510741</td>\n",
       "      <td>2.530854</td>\n",
       "      <td>2.235260</td>\n",
       "      <td>4.756447</td>\n",
       "    </tr>\n",
       "    <tr>\n",
       "      <th>2014-01-01</th>\n",
       "      <td>1.668453</td>\n",
       "      <td>2.433843</td>\n",
       "      <td>2.705000</td>\n",
       "      <td>2.408701</td>\n",
       "      <td>4.692039</td>\n",
       "    </tr>\n",
       "    <tr>\n",
       "      <th>2015-01-01</th>\n",
       "      <td>1.529409</td>\n",
       "      <td>2.108657</td>\n",
       "      <td>1.703415</td>\n",
       "      <td>2.234740</td>\n",
       "      <td>4.587303</td>\n",
       "    </tr>\n",
       "    <tr>\n",
       "      <th>2016-01-01</th>\n",
       "      <td>1.418620</td>\n",
       "      <td>1.674398</td>\n",
       "      <td>1.518171</td>\n",
       "      <td>2.100714</td>\n",
       "      <td>3.809079</td>\n",
       "    </tr>\n",
       "  </tbody>\n",
       "</table>\n",
       "</div>"
      ],
      "text/plain": [
       "parent-location           Cook County, Illinois  DuPage County, Illinois  \\\n",
       "              year                                                         \n",
       "eviction-rate 2000-01-01               0.016179                      NaN   \n",
       "              2001-01-01               0.012691                 2.376944   \n",
       "              2002-01-01               0.009234                 2.237083   \n",
       "              2003-01-01               0.013397                 2.116713   \n",
       "              2004-01-01               0.013980                 2.491389   \n",
       "              2005-01-01               0.032585                 1.987731   \n",
       "              2006-01-01               1.398052                 2.535463   \n",
       "              2007-01-01               1.595262                 3.197130   \n",
       "              2008-01-01               1.905292                 3.257685   \n",
       "              2009-01-01               2.055951                 3.265880   \n",
       "              2010-01-01               2.054428                 3.218148   \n",
       "              2011-01-01               1.992676                 3.269352   \n",
       "              2012-01-01               2.097271                 2.784491   \n",
       "              2013-01-01               1.841577                 2.510741   \n",
       "              2014-01-01               1.668453                 2.433843   \n",
       "              2015-01-01               1.529409                 2.108657   \n",
       "              2016-01-01               1.418620                 1.674398   \n",
       "\n",
       "parent-location           Kane County, Illinois  Lake County, Illinois  \\\n",
       "              year                                                       \n",
       "eviction-rate 2000-01-01                    NaN                    NaN   \n",
       "              2001-01-01               2.926585               1.876364   \n",
       "              2002-01-01               3.080366               1.316299   \n",
       "              2003-01-01               2.886585               2.275844   \n",
       "              2004-01-01               3.112073               2.229935   \n",
       "              2005-01-01               3.389878               2.178506   \n",
       "              2006-01-01               3.945122               2.466039   \n",
       "              2007-01-01               1.151707               2.913896   \n",
       "              2008-01-01               1.897927               3.024740   \n",
       "              2009-01-01               3.642195               3.369805   \n",
       "              2010-01-01               3.180122               3.110844   \n",
       "              2011-01-01               2.991585               3.049351   \n",
       "              2012-01-01               3.165000               2.732857   \n",
       "              2013-01-01               2.530854               2.235260   \n",
       "              2014-01-01               2.705000               2.408701   \n",
       "              2015-01-01               1.703415               2.234740   \n",
       "              2016-01-01               1.518171               2.100714   \n",
       "\n",
       "parent-location           Will County, Illinois  \n",
       "              year                               \n",
       "eviction-rate 2000-01-01                    NaN  \n",
       "              2001-01-01               4.225395  \n",
       "              2002-01-01               3.661776  \n",
       "              2003-01-01               4.273553  \n",
       "              2004-01-01               4.759276  \n",
       "              2005-01-01               4.495855  \n",
       "              2006-01-01               3.255197  \n",
       "              2007-01-01               2.903224  \n",
       "              2008-01-01               3.370592  \n",
       "              2009-01-01               6.963421  \n",
       "              2010-01-01               4.803816  \n",
       "              2011-01-01               5.772500  \n",
       "              2012-01-01               5.755132  \n",
       "              2013-01-01               4.756447  \n",
       "              2014-01-01               4.692039  \n",
       "              2015-01-01               4.587303  \n",
       "              2016-01-01               3.809079  "
      ]
     },
     "execution_count": 37,
     "metadata": {},
     "output_type": "execute_result"
    }
   ],
   "source": [
    "mean_evition_rate_by_year.unstack().T"
   ]
  },
  {
   "cell_type": "code",
   "execution_count": 38,
   "metadata": {},
   "outputs": [
    {
     "data": {
      "text/plain": [
       "<matplotlib.axes._subplots.AxesSubplot at 0x112084438>"
      ]
     },
     "execution_count": 38,
     "metadata": {},
     "output_type": "execute_result"
    },
    {
     "data": {
      "image/png": "[encoded data removed]",
      "text/plain": [
       "<Figure size 432x288 with 1 Axes>"
      ]
     },
     "metadata": {
      "needs_background": "light"
     },
     "output_type": "display_data"
    }
   ],
   "source": [
    "mean_evition_rate_by_year.unstack().T.plot()"
   ]
  },
  {
   "cell_type": "code",
   "execution_count": 39,
   "metadata": {},
   "outputs": [
    {
     "data": {
      "text/plain": [
       "<matplotlib.axes._subplots.AxesSubplot at 0x1132a4d30>"
      ]
     },
     "execution_count": 39,
     "metadata": {},
     "output_type": "execute_result"
    },
    {
     "data": {
      "image/png": "[encoded data removed]",
      "text/plain": [
       "<Figure size 432x288 with 1 Axes>"
      ]
     },
     "metadata": {
      "needs_background": "light"
     },
     "output_type": "display_data"
    }
   ],
   "source": [
    "mean_eviction_rate_by_year = mean_evition_rate_by_year.unstack().\\\n",
    "                             T\\\n",
    "                             .reset_index()\n",
    "mean_eviction_rate_by_year.set_index('year').plot()"
   ]
  },
  {
   "cell_type": "code",
   "execution_count": 50,
   "metadata": {},
   "outputs": [
    {
     "data": {
      "text/plain": [
       "<matplotlib.axes._subplots.AxesSubplot at 0x11b793e80>"
      ]
     },
     "execution_count": 50,
     "metadata": {},
     "output_type": "execute_result"
    },
    {
     "data": {
      "image/png": "[encoded data removed]",
      "text/plain": [
       "<Figure size 432x288 with 1 Axes>"
      ]
     },
     "metadata": {
      "needs_background": "light"
     },
     "output_type": "display_data"
    }
   ],
   "source": [
    "tracts_il_subset.groupby('year').agg({'eviction-rate' : 'mean'}).plot()"
   ]
  },
  {
   "cell_type": "code",
   "execution_count": null,
   "metadata": {},
   "outputs": [],
   "source": []
  }
 ],
 "metadata": {
  "kernelspec": {
   "display_name": "Python 3",
   "language": "python",
   "name": "python3"
  },
  "language_info": {
   "codemirror_mode": {
    "name": "ipython",
    "version": 3
   },
   "file_extension": ".py",
   "mimetype": "text/x-python",
   "name": "python",
   "nbconvert_exporter": "python",
   "pygments_lexer": "ipython3",
   "version": "3.6.7"
  }
 },
 "nbformat": 4,
 "nbformat_minor": 2
}
